{
 "cells": [
  {
   "cell_type": "markdown",
   "metadata": {},
   "source": [
    "# Alphavantage Intraday\n",
    "* API for \"real time\" stock data\n",
    "\n",
    " #* Neeraj Yadav"
   ]
  },
  {
   "cell_type": "markdown",
   "metadata": {},
   "source": [
    "### 1. Set up Environment"
   ]
  },
  {
   "cell_type": "code",
   "execution_count": 55,
   "metadata": {},
   "outputs": [],
   "source": [
    "import pandas as pd\n",
    "import matplotlib.pyplot as plt\n",
    "from alpha_vantage.timeseries import TimeSeries"
   ]
  },
  {
   "cell_type": "markdown",
   "metadata": {},
   "source": [
    "### 2. Store API Key"
   ]
  },
  {
   "cell_type": "code",
   "execution_count": 56,
   "metadata": {},
   "outputs": [],
   "source": [
    "# API key\n",
    "#key = pd.read_csv('3IINFOTECH.csv')\n",
    "key = open('apikey.txt').read()"
   ]
  },
  {
   "cell_type": "code",
   "execution_count": 57,
   "metadata": {},
   "outputs": [],
   "source": [
    "### 3. Create TimeSeries Object and Make API Call"
   ]
  },
  {
   "cell_type": "code",
   "execution_count": 58,
   "metadata": {},
   "outputs": [],
   "source": [
    "ts = TimeSeries(key, output_format='pandas')\n",
    "data, meta = ts.get_intraday('TSLA', interval='1min', outputsize='full')\n",
    "x = pd.Series([100])\n"
   ]
  },
  {
   "cell_type": "markdown",
   "metadata": {},
   "source": [
    "### 4. Examine Data"
   ]
  },
  {
   "cell_type": "code",
   "execution_count": 59,
   "metadata": {},
   "outputs": [
    {
     "data": {
      "text/plain": [
       "{'1. Information': 'Intraday (1min) open, high, low, close prices and volume',\n",
       " '2. Symbol': 'TSLA',\n",
       " '3. Last Refreshed': '2021-01-22 20:00:00',\n",
       " '4. Interval': '1min',\n",
       " '5. Output Size': 'Full size',\n",
       " '6. Time Zone': 'US/Eastern'}"
      ]
     },
     "execution_count": 59,
     "metadata": {},
     "output_type": "execute_result"
    }
   ],
   "source": [
    "meta"
   ]
  },
  {
   "cell_type": "code",
   "execution_count": 60,
   "metadata": {},
   "outputs": [
    {
     "name": "stdout",
     "output_type": "stream",
     "text": [
      "<class 'pandas.core.frame.DataFrame'>\n",
      "DatetimeIndex: 7079 entries, 2021-01-22 20:00:00 to 2021-01-11 04:01:00\n",
      "Data columns (total 5 columns):\n",
      " #   Column     Non-Null Count  Dtype  \n",
      "---  ------     --------------  -----  \n",
      " 0   1. open    7079 non-null   float64\n",
      " 1   2. high    7079 non-null   float64\n",
      " 2   3. low     7079 non-null   float64\n",
      " 3   4. close   7079 non-null   float64\n",
      " 4   5. volume  7079 non-null   float64\n",
      "dtypes: float64(5)\n",
      "memory usage: 331.8 KB\n"
     ]
    }
   ],
   "source": [
    "data.info()"
   ]
  },
  {
   "cell_type": "code",
   "execution_count": 61,
   "metadata": {
    "scrolled": true
   },
   "outputs": [
    {
     "data": {
      "text/html": [
       "<div>\n",
       "<style scoped>\n",
       "    .dataframe tbody tr th:only-of-type {\n",
       "        vertical-align: middle;\n",
       "    }\n",
       "\n",
       "    .dataframe tbody tr th {\n",
       "        vertical-align: top;\n",
       "    }\n",
       "\n",
       "    .dataframe thead th {\n",
       "        text-align: right;\n",
       "    }\n",
       "</style>\n",
       "<table border=\"1\" class=\"dataframe\">\n",
       "  <thead>\n",
       "    <tr style=\"text-align: right;\">\n",
       "      <th></th>\n",
       "      <th>1. open</th>\n",
       "      <th>2. high</th>\n",
       "      <th>3. low</th>\n",
       "      <th>4. close</th>\n",
       "      <th>5. volume</th>\n",
       "    </tr>\n",
       "    <tr>\n",
       "      <th>date</th>\n",
       "      <th></th>\n",
       "      <th></th>\n",
       "      <th></th>\n",
       "      <th></th>\n",
       "      <th></th>\n",
       "    </tr>\n",
       "  </thead>\n",
       "  <tbody>\n",
       "    <tr>\n",
       "      <th>2021-01-22 20:00:00</th>\n",
       "      <td>846.50</td>\n",
       "      <td>847.50</td>\n",
       "      <td>846.41</td>\n",
       "      <td>847.50</td>\n",
       "      <td>2392.0</td>\n",
       "    </tr>\n",
       "    <tr>\n",
       "      <th>2021-01-22 19:59:00</th>\n",
       "      <td>846.50</td>\n",
       "      <td>846.50</td>\n",
       "      <td>846.01</td>\n",
       "      <td>846.41</td>\n",
       "      <td>4138.0</td>\n",
       "    </tr>\n",
       "    <tr>\n",
       "      <th>2021-01-22 19:58:00</th>\n",
       "      <td>846.20</td>\n",
       "      <td>846.20</td>\n",
       "      <td>846.20</td>\n",
       "      <td>846.20</td>\n",
       "      <td>825.0</td>\n",
       "    </tr>\n",
       "    <tr>\n",
       "      <th>2021-01-22 19:57:00</th>\n",
       "      <td>846.50</td>\n",
       "      <td>846.50</td>\n",
       "      <td>846.50</td>\n",
       "      <td>846.50</td>\n",
       "      <td>2094.0</td>\n",
       "    </tr>\n",
       "    <tr>\n",
       "      <th>2021-01-22 19:56:00</th>\n",
       "      <td>846.48</td>\n",
       "      <td>846.48</td>\n",
       "      <td>846.48</td>\n",
       "      <td>846.48</td>\n",
       "      <td>667.0</td>\n",
       "    </tr>\n",
       "  </tbody>\n",
       "</table>\n",
       "</div>"
      ],
      "text/plain": [
       "                     1. open  2. high  3. low  4. close  5. volume\n",
       "date                                                              \n",
       "2021-01-22 20:00:00   846.50   847.50  846.41    847.50     2392.0\n",
       "2021-01-22 19:59:00   846.50   846.50  846.01    846.41     4138.0\n",
       "2021-01-22 19:58:00   846.20   846.20  846.20    846.20      825.0\n",
       "2021-01-22 19:57:00   846.50   846.50  846.50    846.50     2094.0\n",
       "2021-01-22 19:56:00   846.48   846.48  846.48    846.48      667.0"
      ]
     },
     "execution_count": 61,
     "metadata": {},
     "output_type": "execute_result"
    }
   ],
   "source": [
    "data.head()"
   ]
  },
  {
   "cell_type": "markdown",
   "metadata": {},
   "source": [
    "# 5.Visualize the data "
   ]
  },
  {
   "cell_type": "code",
   "execution_count": 47,
   "metadata": {},
   "outputs": [
    {
     "data": {
      "text/plain": [
       "[<matplotlib.lines.Line2D at 0xec33a28040>]"
      ]
     },
     "execution_count": 47,
     "metadata": {},
     "output_type": "execute_result"
    },
    {
     "data": {
      "image/png": "[encoded data removed]",
      "text/plain": [
       "<Figure size 432x288 with 1 Axes>"
      ]
     },
     "metadata": {
      "needs_background": "light"
     },
     "output_type": "display_data"
    }
   ],
   "source": [
    "plt.plot(data['4. close'])"
   ]
  },
  {
   "cell_type": "markdown",
   "metadata": {},
   "source": [
    "### 6. Rename Columns and Add Separate Date and Time Columns"
   ]
  },
  {
   "cell_type": "code",
   "execution_count": 48,
   "metadata": {},
   "outputs": [],
   "source": [
    "columns = ['open', 'high', 'low', 'close', 'volume']\n",
    "data.columns = columns"
   ]
  },
  {
   "cell_type": "code",
   "execution_count": 49,
   "metadata": {},
   "outputs": [],
   "source": [
    "data['TradeDate'] = data.index.date\n",
    "data['time'] = data.index.time"
   ]
  },
  {
   "cell_type": "code",
   "execution_count": 50,
   "metadata": {},
   "outputs": [
    {
     "data": {
      "text/html": [
       "<div>\n",
       "<style scoped>\n",
       "    .dataframe tbody tr th:only-of-type {\n",
       "        vertical-align: middle;\n",
       "    }\n",
       "\n",
       "    .dataframe tbody tr th {\n",
       "        vertical-align: top;\n",
       "    }\n",
       "\n",
       "    .dataframe thead th {\n",
       "        text-align: right;\n",
       "    }\n",
       "</style>\n",
       "<table border=\"1\" class=\"dataframe\">\n",
       "  <thead>\n",
       "    <tr style=\"text-align: right;\">\n",
       "      <th></th>\n",
       "      <th>open</th>\n",
       "      <th>high</th>\n",
       "      <th>low</th>\n",
       "      <th>close</th>\n",
       "      <th>volume</th>\n",
       "      <th>TradeDate</th>\n",
       "      <th>time</th>\n",
       "    </tr>\n",
       "    <tr>\n",
       "      <th>date</th>\n",
       "      <th></th>\n",
       "      <th></th>\n",
       "      <th></th>\n",
       "      <th></th>\n",
       "      <th></th>\n",
       "      <th></th>\n",
       "      <th></th>\n",
       "    </tr>\n",
       "  </thead>\n",
       "  <tbody>\n",
       "  </tbody>\n",
       "</table>\n",
       "</div>"
      ],
      "text/plain": [
       "Empty DataFrame\n",
       "Columns: [open, high, low, close, volume, TradeDate, time]\n",
       "Index: []"
      ]
     },
     "execution_count": 50,
     "metadata": {},
     "output_type": "execute_result"
    }
   ],
   "source": [
    "data.loc['2020-12-31']"
   ]
  },
  {
   "cell_type": "code",
   "execution_count": 51,
   "metadata": {},
   "outputs": [
    {
     "name": "stdout",
     "output_type": "stream",
     "text": [
      "<class 'pandas.core.frame.DataFrame'>\n",
      "DatetimeIndex: 3519 entries, 2021-01-11 09:30:00 to 2021-01-22 16:00:00\n",
      "Data columns (total 7 columns):\n",
      " #   Column     Non-Null Count  Dtype  \n",
      "---  ------     --------------  -----  \n",
      " 0   open       3519 non-null   float64\n",
      " 1   high       3519 non-null   float64\n",
      " 2   low        3519 non-null   float64\n",
      " 3   close      3519 non-null   float64\n",
      " 4   volume     3519 non-null   float64\n",
      " 5   TradeDate  3519 non-null   object \n",
      " 6   time       3519 non-null   object \n",
      "dtypes: float64(5), object(2)\n",
      "memory usage: 219.9+ KB\n"
     ]
    }
   ],
   "source": [
    "market = data.between_time('09:30:00', '16:00:00').copy()\n",
    "market.sort_index(inplace=True)\n",
    "market.info()"
   ]
  },
  {
   "cell_type": "markdown",
   "metadata": {},
   "source": [
    "## 7.Trade date Tables "
   ]
  },
  {
   "cell_type": "code",
   "execution_count": 52,
   "metadata": {},
   "outputs": [
    {
     "data": {
      "text/html": [
       "<div>\n",
       "<style scoped>\n",
       "    .dataframe tbody tr th:only-of-type {\n",
       "        vertical-align: middle;\n",
       "    }\n",
       "\n",
       "    .dataframe tbody tr th {\n",
       "        vertical-align: top;\n",
       "    }\n",
       "\n",
       "    .dataframe thead th {\n",
       "        text-align: right;\n",
       "    }\n",
       "</style>\n",
       "<table border=\"1\" class=\"dataframe\">\n",
       "  <thead>\n",
       "    <tr style=\"text-align: right;\">\n",
       "      <th></th>\n",
       "      <th>low</th>\n",
       "      <th>high</th>\n",
       "    </tr>\n",
       "    <tr>\n",
       "      <th>TradeDate</th>\n",
       "      <th></th>\n",
       "      <th></th>\n",
       "    </tr>\n",
       "  </thead>\n",
       "  <tbody>\n",
       "    <tr>\n",
       "      <th>2021-01-11</th>\n",
       "      <td>803.6222</td>\n",
       "      <td>854.4300</td>\n",
       "    </tr>\n",
       "    <tr>\n",
       "      <th>2021-01-12</th>\n",
       "      <td>827.3400</td>\n",
       "      <td>868.0000</td>\n",
       "    </tr>\n",
       "    <tr>\n",
       "      <th>2021-01-13</th>\n",
       "      <td>832.0000</td>\n",
       "      <td>860.4700</td>\n",
       "    </tr>\n",
       "    <tr>\n",
       "      <th>2021-01-14</th>\n",
       "      <td>838.7500</td>\n",
       "      <td>863.0000</td>\n",
       "    </tr>\n",
       "    <tr>\n",
       "      <th>2021-01-15</th>\n",
       "      <td>819.1000</td>\n",
       "      <td>859.9000</td>\n",
       "    </tr>\n",
       "    <tr>\n",
       "      <th>2021-01-19</th>\n",
       "      <td>833.0000</td>\n",
       "      <td>850.0000</td>\n",
       "    </tr>\n",
       "    <tr>\n",
       "      <th>2021-01-20</th>\n",
       "      <td>837.2800</td>\n",
       "      <td>859.5000</td>\n",
       "    </tr>\n",
       "    <tr>\n",
       "      <th>2021-01-21</th>\n",
       "      <td>841.4201</td>\n",
       "      <td>855.7199</td>\n",
       "    </tr>\n",
       "    <tr>\n",
       "      <th>2021-01-22</th>\n",
       "      <td>828.6200</td>\n",
       "      <td>848.0000</td>\n",
       "    </tr>\n",
       "  </tbody>\n",
       "</table>\n",
       "</div>"
      ],
      "text/plain": [
       "                 low      high\n",
       "TradeDate                     \n",
       "2021-01-11  803.6222  854.4300\n",
       "2021-01-12  827.3400  868.0000\n",
       "2021-01-13  832.0000  860.4700\n",
       "2021-01-14  838.7500  863.0000\n",
       "2021-01-15  819.1000  859.9000\n",
       "2021-01-19  833.0000  850.0000\n",
       "2021-01-20  837.2800  859.5000\n",
       "2021-01-21  841.4201  855.7199\n",
       "2021-01-22  828.6200  848.0000"
      ]
     },
     "execution_count": 52,
     "metadata": {},
     "output_type": "execute_result"
    }
   ],
   "source": [
    "market.groupby('TradeDate').agg({'low':min, 'high':max})"
   ]
  },
  {
   "cell_type": "code",
   "execution_count": 53,
   "metadata": {},
   "outputs": [
    {
     "data": {
      "text/html": [
       "<div>\n",
       "<style scoped>\n",
       "    .dataframe tbody tr th:only-of-type {\n",
       "        vertical-align: middle;\n",
       "    }\n",
       "\n",
       "    .dataframe tbody tr th {\n",
       "        vertical-align: top;\n",
       "    }\n",
       "\n",
       "    .dataframe thead th {\n",
       "        text-align: right;\n",
       "    }\n",
       "</style>\n",
       "<table border=\"1\" class=\"dataframe\">\n",
       "  <thead>\n",
       "    <tr style=\"text-align: right;\">\n",
       "      <th></th>\n",
       "      <th>open</th>\n",
       "      <th>high</th>\n",
       "      <th>low</th>\n",
       "      <th>close</th>\n",
       "      <th>volume</th>\n",
       "      <th>TradeDate</th>\n",
       "      <th>time</th>\n",
       "    </tr>\n",
       "    <tr>\n",
       "      <th>date</th>\n",
       "      <th></th>\n",
       "      <th></th>\n",
       "      <th></th>\n",
       "      <th></th>\n",
       "      <th></th>\n",
       "      <th></th>\n",
       "      <th></th>\n",
       "    </tr>\n",
       "  </thead>\n",
       "  <tbody>\n",
       "    <tr>\n",
       "      <th>2021-01-11 15:32:00</th>\n",
       "      <td>806.2650</td>\n",
       "      <td>809.8000</td>\n",
       "      <td>803.6222</td>\n",
       "      <td>807.8400</td>\n",
       "      <td>369834.0</td>\n",
       "      <td>2021-01-11</td>\n",
       "      <td>15:32:00</td>\n",
       "    </tr>\n",
       "    <tr>\n",
       "      <th>2021-01-12 09:31:00</th>\n",
       "      <td>831.0000</td>\n",
       "      <td>835.4000</td>\n",
       "      <td>827.3400</td>\n",
       "      <td>835.0000</td>\n",
       "      <td>745755.0</td>\n",
       "      <td>2021-01-12</td>\n",
       "      <td>09:31:00</td>\n",
       "    </tr>\n",
       "    <tr>\n",
       "      <th>2021-01-13 12:50:00</th>\n",
       "      <td>835.0300</td>\n",
       "      <td>835.0300</td>\n",
       "      <td>832.0000</td>\n",
       "      <td>832.0000</td>\n",
       "      <td>149402.0</td>\n",
       "      <td>2021-01-13</td>\n",
       "      <td>12:50:00</td>\n",
       "    </tr>\n",
       "    <tr>\n",
       "      <th>2021-01-14 09:38:00</th>\n",
       "      <td>839.4855</td>\n",
       "      <td>841.0400</td>\n",
       "      <td>838.7500</td>\n",
       "      <td>839.0630</td>\n",
       "      <td>162301.0</td>\n",
       "      <td>2021-01-14</td>\n",
       "      <td>09:38:00</td>\n",
       "    </tr>\n",
       "    <tr>\n",
       "      <th>2021-01-15 15:09:00</th>\n",
       "      <td>819.2000</td>\n",
       "      <td>821.3400</td>\n",
       "      <td>819.1000</td>\n",
       "      <td>820.6900</td>\n",
       "      <td>172460.0</td>\n",
       "      <td>2021-01-15</td>\n",
       "      <td>15:09:00</td>\n",
       "    </tr>\n",
       "    <tr>\n",
       "      <th>2021-01-19 11:01:00</th>\n",
       "      <td>833.3078</td>\n",
       "      <td>835.5414</td>\n",
       "      <td>833.0000</td>\n",
       "      <td>835.0900</td>\n",
       "      <td>123410.0</td>\n",
       "      <td>2021-01-19</td>\n",
       "      <td>11:01:00</td>\n",
       "    </tr>\n",
       "    <tr>\n",
       "      <th>2021-01-20 10:58:00</th>\n",
       "      <td>840.7500</td>\n",
       "      <td>840.9899</td>\n",
       "      <td>837.2800</td>\n",
       "      <td>838.1800</td>\n",
       "      <td>200655.0</td>\n",
       "      <td>2021-01-20</td>\n",
       "      <td>10:58:00</td>\n",
       "    </tr>\n",
       "    <tr>\n",
       "      <th>2021-01-21 10:40:00</th>\n",
       "      <td>842.5700</td>\n",
       "      <td>842.8500</td>\n",
       "      <td>841.4201</td>\n",
       "      <td>841.7861</td>\n",
       "      <td>98969.0</td>\n",
       "      <td>2021-01-21</td>\n",
       "      <td>10:40:00</td>\n",
       "    </tr>\n",
       "    <tr>\n",
       "      <th>2021-01-22 10:40:00</th>\n",
       "      <td>830.5000</td>\n",
       "      <td>831.4899</td>\n",
       "      <td>828.6200</td>\n",
       "      <td>830.1500</td>\n",
       "      <td>135384.0</td>\n",
       "      <td>2021-01-22</td>\n",
       "      <td>10:40:00</td>\n",
       "    </tr>\n",
       "  </tbody>\n",
       "</table>\n",
       "</div>"
      ],
      "text/plain": [
       "                         open      high       low     close    volume  \\\n",
       "date                                                                    \n",
       "2021-01-11 15:32:00  806.2650  809.8000  803.6222  807.8400  369834.0   \n",
       "2021-01-12 09:31:00  831.0000  835.4000  827.3400  835.0000  745755.0   \n",
       "2021-01-13 12:50:00  835.0300  835.0300  832.0000  832.0000  149402.0   \n",
       "2021-01-14 09:38:00  839.4855  841.0400  838.7500  839.0630  162301.0   \n",
       "2021-01-15 15:09:00  819.2000  821.3400  819.1000  820.6900  172460.0   \n",
       "2021-01-19 11:01:00  833.3078  835.5414  833.0000  835.0900  123410.0   \n",
       "2021-01-20 10:58:00  840.7500  840.9899  837.2800  838.1800  200655.0   \n",
       "2021-01-21 10:40:00  842.5700  842.8500  841.4201  841.7861   98969.0   \n",
       "2021-01-22 10:40:00  830.5000  831.4899  828.6200  830.1500  135384.0   \n",
       "\n",
       "                      TradeDate      time  \n",
       "date                                       \n",
       "2021-01-11 15:32:00  2021-01-11  15:32:00  \n",
       "2021-01-12 09:31:00  2021-01-12  09:31:00  \n",
       "2021-01-13 12:50:00  2021-01-13  12:50:00  \n",
       "2021-01-14 09:38:00  2021-01-14  09:38:00  \n",
       "2021-01-15 15:09:00  2021-01-15  15:09:00  \n",
       "2021-01-19 11:01:00  2021-01-19  11:01:00  \n",
       "2021-01-20 10:58:00  2021-01-20  10:58:00  \n",
       "2021-01-21 10:40:00  2021-01-21  10:40:00  \n",
       "2021-01-22 10:40:00  2021-01-22  10:40:00  "
      ]
     },
     "execution_count": 53,
     "metadata": {},
     "output_type": "execute_result"
    }
   ],
   "source": [
    "market.loc[market.groupby('TradeDate')['low'].idxmin()]"
   ]
  },
  {
   "cell_type": "code",
   "execution_count": 54,
   "metadata": {},
   "outputs": [
    {
     "data": {
      "text/html": [
       "<div>\n",
       "<style scoped>\n",
       "    .dataframe tbody tr th:only-of-type {\n",
       "        vertical-align: middle;\n",
       "    }\n",
       "\n",
       "    .dataframe tbody tr th {\n",
       "        vertical-align: top;\n",
       "    }\n",
       "\n",
       "    .dataframe thead th {\n",
       "        text-align: right;\n",
       "    }\n",
       "</style>\n",
       "<table border=\"1\" class=\"dataframe\">\n",
       "  <thead>\n",
       "    <tr style=\"text-align: right;\">\n",
       "      <th></th>\n",
       "      <th>open</th>\n",
       "      <th>high</th>\n",
       "      <th>low</th>\n",
       "      <th>close</th>\n",
       "      <th>volume</th>\n",
       "      <th>TradeDate</th>\n",
       "      <th>time</th>\n",
       "    </tr>\n",
       "    <tr>\n",
       "      <th>date</th>\n",
       "      <th></th>\n",
       "      <th></th>\n",
       "      <th></th>\n",
       "      <th></th>\n",
       "      <th></th>\n",
       "      <th></th>\n",
       "      <th></th>\n",
       "    </tr>\n",
       "  </thead>\n",
       "  <tbody>\n",
       "    <tr>\n",
       "      <th>2021-01-11 10:20:00</th>\n",
       "      <td>851.9644</td>\n",
       "      <td>854.4300</td>\n",
       "      <td>851.1500</td>\n",
       "      <td>851.4041</td>\n",
       "      <td>317788.0</td>\n",
       "      <td>2021-01-11</td>\n",
       "      <td>10:20:00</td>\n",
       "    </tr>\n",
       "    <tr>\n",
       "      <th>2021-01-12 11:40:00</th>\n",
       "      <td>866.0400</td>\n",
       "      <td>868.0000</td>\n",
       "      <td>865.8021</td>\n",
       "      <td>866.0350</td>\n",
       "      <td>275079.0</td>\n",
       "      <td>2021-01-12</td>\n",
       "      <td>11:40:00</td>\n",
       "    </tr>\n",
       "    <tr>\n",
       "      <th>2021-01-13 09:32:00</th>\n",
       "      <td>856.7900</td>\n",
       "      <td>860.4700</td>\n",
       "      <td>854.5000</td>\n",
       "      <td>859.0000</td>\n",
       "      <td>306304.0</td>\n",
       "      <td>2021-01-13</td>\n",
       "      <td>09:32:00</td>\n",
       "    </tr>\n",
       "    <tr>\n",
       "      <th>2021-01-14 10:35:00</th>\n",
       "      <td>861.9135</td>\n",
       "      <td>863.0000</td>\n",
       "      <td>861.1701</td>\n",
       "      <td>862.1850</td>\n",
       "      <td>155011.0</td>\n",
       "      <td>2021-01-14</td>\n",
       "      <td>10:35:00</td>\n",
       "    </tr>\n",
       "    <tr>\n",
       "      <th>2021-01-15 09:34:00</th>\n",
       "      <td>857.8900</td>\n",
       "      <td>859.9000</td>\n",
       "      <td>856.3001</td>\n",
       "      <td>857.5897</td>\n",
       "      <td>263174.0</td>\n",
       "      <td>2021-01-15</td>\n",
       "      <td>09:34:00</td>\n",
       "    </tr>\n",
       "    <tr>\n",
       "      <th>2021-01-19 09:43:00</th>\n",
       "      <td>846.1300</td>\n",
       "      <td>850.0000</td>\n",
       "      <td>845.5800</td>\n",
       "      <td>848.6800</td>\n",
       "      <td>218051.0</td>\n",
       "      <td>2021-01-19</td>\n",
       "      <td>09:43:00</td>\n",
       "    </tr>\n",
       "    <tr>\n",
       "      <th>2021-01-20 09:31:00</th>\n",
       "      <td>858.7400</td>\n",
       "      <td>859.5000</td>\n",
       "      <td>856.6500</td>\n",
       "      <td>858.6101</td>\n",
       "      <td>461482.0</td>\n",
       "      <td>2021-01-20</td>\n",
       "      <td>09:31:00</td>\n",
       "    </tr>\n",
       "    <tr>\n",
       "      <th>2021-01-21 09:31:00</th>\n",
       "      <td>855.0000</td>\n",
       "      <td>855.7199</td>\n",
       "      <td>853.0000</td>\n",
       "      <td>853.6900</td>\n",
       "      <td>348284.0</td>\n",
       "      <td>2021-01-21</td>\n",
       "      <td>09:31:00</td>\n",
       "    </tr>\n",
       "    <tr>\n",
       "      <th>2021-01-22 15:57:00</th>\n",
       "      <td>847.1600</td>\n",
       "      <td>848.0000</td>\n",
       "      <td>847.1100</td>\n",
       "      <td>847.8400</td>\n",
       "      <td>125587.0</td>\n",
       "      <td>2021-01-22</td>\n",
       "      <td>15:57:00</td>\n",
       "    </tr>\n",
       "  </tbody>\n",
       "</table>\n",
       "</div>"
      ],
      "text/plain": [
       "                         open      high       low     close    volume  \\\n",
       "date                                                                    \n",
       "2021-01-11 10:20:00  851.9644  854.4300  851.1500  851.4041  317788.0   \n",
       "2021-01-12 11:40:00  866.0400  868.0000  865.8021  866.0350  275079.0   \n",
       "2021-01-13 09:32:00  856.7900  860.4700  854.5000  859.0000  306304.0   \n",
       "2021-01-14 10:35:00  861.9135  863.0000  861.1701  862.1850  155011.0   \n",
       "2021-01-15 09:34:00  857.8900  859.9000  856.3001  857.5897  263174.0   \n",
       "2021-01-19 09:43:00  846.1300  850.0000  845.5800  848.6800  218051.0   \n",
       "2021-01-20 09:31:00  858.7400  859.5000  856.6500  858.6101  461482.0   \n",
       "2021-01-21 09:31:00  855.0000  855.7199  853.0000  853.6900  348284.0   \n",
       "2021-01-22 15:57:00  847.1600  848.0000  847.1100  847.8400  125587.0   \n",
       "\n",
       "                      TradeDate      time  \n",
       "date                                       \n",
       "2021-01-11 10:20:00  2021-01-11  10:20:00  \n",
       "2021-01-12 11:40:00  2021-01-12  11:40:00  \n",
       "2021-01-13 09:32:00  2021-01-13  09:32:00  \n",
       "2021-01-14 10:35:00  2021-01-14  10:35:00  \n",
       "2021-01-15 09:34:00  2021-01-15  09:34:00  \n",
       "2021-01-19 09:43:00  2021-01-19  09:43:00  \n",
       "2021-01-20 09:31:00  2021-01-20  09:31:00  \n",
       "2021-01-21 09:31:00  2021-01-21  09:31:00  \n",
       "2021-01-22 15:57:00  2021-01-22  15:57:00  "
      ]
     },
     "execution_count": 54,
     "metadata": {},
     "output_type": "execute_result"
    }
   ],
   "source": [
    "market.loc[market.groupby('TradeDate')['high'].idxmax()]"
   ]
  },
  {
   "cell_type": "code",
   "execution_count": null,
   "metadata": {},
   "outputs": [],
   "source": []
  },
  {
   "cell_type": "code",
   "execution_count": null,
   "metadata": {},
   "outputs": [],
   "source": []
  },
  {
   "cell_type": "code",
   "execution_count": null,
   "metadata": {},
   "outputs": [],
   "source": []
  },
  {
   "cell_type": "code",
   "execution_count": null,
   "metadata": {},
   "outputs": [],
   "source": []
  },
  {
   "cell_type": "code",
   "execution_count": null,
   "metadata": {},
   "outputs": [],
   "source": []
  }
 ],
 "metadata": {
  "kernelspec": {
   "display_name": "Python 3",
   "language": "python",
   "name": "python3"
  },
  "language_info": {
   "codemirror_mode": {
    "name": "ipython",
    "version": 3
   },
   "file_extension": ".py",
   "mimetype": "text/x-python",
   "name": "python",
   "nbconvert_exporter": "python",
   "pygments_lexer": "ipython3",
   "version": "3.8.5"
  }
 },
 "nbformat": 4,
 "nbformat_minor": 4
}
